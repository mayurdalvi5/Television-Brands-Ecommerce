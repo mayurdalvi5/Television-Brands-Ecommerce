{
 "cells": [
  {
   "cell_type": "code",
   "execution_count": 1,
   "id": "7209c8b7",
   "metadata": {
    "_cell_guid": "b1076dfc-b9ad-4769-8c92-a6c4dae69d19",
    "_uuid": "8f2839f25d086af736a60e9eeb907d3b93b6e0e5",
    "execution": {
     "iopub.execute_input": "2021-11-19T05:53:16.191675Z",
     "iopub.status.busy": "2021-11-19T05:53:16.190401Z",
     "iopub.status.idle": "2021-11-19T05:53:16.211703Z",
     "shell.execute_reply": "2021-11-19T05:53:16.212587Z",
     "shell.execute_reply.started": "2021-11-19T05:49:28.163644Z"
    },
    "papermill": {
     "duration": 0.050168,
     "end_time": "2021-11-19T05:53:16.213121",
     "exception": false,
     "start_time": "2021-11-19T05:53:16.162953",
     "status": "completed"
    },
    "tags": []
   },
   "outputs": [
    {
     "name": "stdout",
     "output_type": "stream",
     "text": [
      "/kaggle/input/television-brands-ecommerce-dataset/TV_Final.csv\n"
     ]
    }
   ],
   "source": [
    "# This Python 3 environment comes with many helpful analytics libraries installed\n",
    "# It is defined by the kaggle/python Docker image: https://github.com/kaggle/docker-python\n",
    "# For example, here's several helpful packages to load\n",
    "\n",
    "import numpy as np # linear algebra\n",
    "import pandas as pd # data processing, CSV file I/O (e.g. pd.read_csv)\n",
    "\n",
    "# Input data files are available in the read-only \"../input/\" directory\n",
    "# For example, running this (by clicking run or pressing Shift+Enter) will list all files under the input directory\n",
    "\n",
    "import os\n",
    "for dirname, _, filenames in os.walk('/kaggle/input'):\n",
    "    for filename in filenames:\n",
    "        print(os.path.join(dirname, filename))\n",
    "\n",
    "# You can write up to 20GB to the current directory (/kaggle/working/) that gets preserved as output when you create a version using \"Save & Run All\" \n",
    "# You can also write temporary files to /kaggle/temp/, but they won't be saved outside of the current session"
   ]
  },
  {
   "cell_type": "markdown",
   "id": "f5114699",
   "metadata": {
    "papermill": {
     "duration": 0.020271,
     "end_time": "2021-11-19T05:53:16.255520",
     "exception": false,
     "start_time": "2021-11-19T05:53:16.235249",
     "status": "completed"
    },
    "tags": []
   },
   "source": [
    "# Import Dependencies "
   ]
  },
  {
   "cell_type": "code",
   "execution_count": 2,
   "id": "f33fa62d",
   "metadata": {
    "execution": {
     "iopub.execute_input": "2021-11-19T05:53:16.300076Z",
     "iopub.status.busy": "2021-11-19T05:53:16.299359Z",
     "iopub.status.idle": "2021-11-19T05:53:17.304125Z",
     "shell.execute_reply": "2021-11-19T05:53:17.303400Z",
     "shell.execute_reply.started": "2021-11-19T05:49:28.177291Z"
    },
    "papermill": {
     "duration": 1.028017,
     "end_time": "2021-11-19T05:53:17.304285",
     "exception": false,
     "start_time": "2021-11-19T05:53:16.276268",
     "status": "completed"
    },
    "tags": []
   },
   "outputs": [],
   "source": [
    "import numpy as np\n",
    "import pandas as pd\n",
    "import matplotlib.pyplot as plt\n",
    "import seaborn as sns"
   ]
  },
  {
   "cell_type": "code",
   "execution_count": 3,
   "id": "4459b61e",
   "metadata": {
    "execution": {
     "iopub.execute_input": "2021-11-19T05:53:17.351997Z",
     "iopub.status.busy": "2021-11-19T05:53:17.351166Z",
     "iopub.status.idle": "2021-11-19T05:53:17.366457Z",
     "shell.execute_reply": "2021-11-19T05:53:17.367054Z",
     "shell.execute_reply.started": "2021-11-19T05:49:28.188717Z"
    },
    "papermill": {
     "duration": 0.042239,
     "end_time": "2021-11-19T05:53:17.367245",
     "exception": false,
     "start_time": "2021-11-19T05:53:17.325006",
     "status": "completed"
    },
    "tags": []
   },
   "outputs": [],
   "source": [
    "df = pd.read_csv('/kaggle/input/television-brands-ecommerce-dataset/TV_Final.csv')"
   ]
  },
  {
   "cell_type": "markdown",
   "id": "2619b991",
   "metadata": {
    "papermill": {
     "duration": 0.020911,
     "end_time": "2021-11-19T05:53:17.410614",
     "exception": false,
     "start_time": "2021-11-19T05:53:17.389703",
     "status": "completed"
    },
    "tags": []
   },
   "source": [
    "# Analysing Data"
   ]
  },
  {
   "cell_type": "code",
   "execution_count": 4,
   "id": "da27c8a1",
   "metadata": {
    "execution": {
     "iopub.execute_input": "2021-11-19T05:53:17.461006Z",
     "iopub.status.busy": "2021-11-19T05:53:17.460254Z",
     "iopub.status.idle": "2021-11-19T05:53:17.476783Z",
     "shell.execute_reply": "2021-11-19T05:53:17.477307Z",
     "shell.execute_reply.started": "2021-11-19T05:49:28.207642Z"
    },
    "papermill": {
     "duration": 0.046391,
     "end_time": "2021-11-19T05:53:17.477504",
     "exception": false,
     "start_time": "2021-11-19T05:53:17.431113",
     "status": "completed"
    },
    "tags": []
   },
   "outputs": [
    {
     "data": {
      "text/html": [
       "<div>\n",
       "<style scoped>\n",
       "    .dataframe tbody tr th:only-of-type {\n",
       "        vertical-align: middle;\n",
       "    }\n",
       "\n",
       "    .dataframe tbody tr th {\n",
       "        vertical-align: top;\n",
       "    }\n",
       "\n",
       "    .dataframe thead th {\n",
       "        text-align: right;\n",
       "    }\n",
       "</style>\n",
       "<table border=\"1\" class=\"dataframe\">\n",
       "  <thead>\n",
       "    <tr style=\"text-align: right;\">\n",
       "      <th></th>\n",
       "      <th>Brand</th>\n",
       "      <th>Resolution</th>\n",
       "      <th>Size</th>\n",
       "      <th>Selling Price</th>\n",
       "      <th>Original Price</th>\n",
       "      <th>Operating System</th>\n",
       "      <th>Rating</th>\n",
       "    </tr>\n",
       "  </thead>\n",
       "  <tbody>\n",
       "    <tr>\n",
       "      <th>0</th>\n",
       "      <td>TOSHIBA</td>\n",
       "      <td>Ultra HD LED</td>\n",
       "      <td>55</td>\n",
       "      <td>37999</td>\n",
       "      <td>54990</td>\n",
       "      <td>VIDAA</td>\n",
       "      <td>4.3</td>\n",
       "    </tr>\n",
       "    <tr>\n",
       "      <th>1</th>\n",
       "      <td>TCL</td>\n",
       "      <td>QLED Ultra HD</td>\n",
       "      <td>55</td>\n",
       "      <td>52999</td>\n",
       "      <td>129990</td>\n",
       "      <td>Android</td>\n",
       "      <td>4.4</td>\n",
       "    </tr>\n",
       "    <tr>\n",
       "      <th>2</th>\n",
       "      <td>realme</td>\n",
       "      <td>HD LED</td>\n",
       "      <td>32</td>\n",
       "      <td>13999</td>\n",
       "      <td>17999</td>\n",
       "      <td>Android</td>\n",
       "      <td>4.3</td>\n",
       "    </tr>\n",
       "    <tr>\n",
       "      <th>3</th>\n",
       "      <td>Mi</td>\n",
       "      <td>HD LED</td>\n",
       "      <td>32</td>\n",
       "      <td>14999</td>\n",
       "      <td>19999</td>\n",
       "      <td>Android</td>\n",
       "      <td>4.4</td>\n",
       "    </tr>\n",
       "    <tr>\n",
       "      <th>4</th>\n",
       "      <td>realme</td>\n",
       "      <td>HD LED</td>\n",
       "      <td>32</td>\n",
       "      <td>12999</td>\n",
       "      <td>21999</td>\n",
       "      <td>Android</td>\n",
       "      <td>4.3</td>\n",
       "    </tr>\n",
       "  </tbody>\n",
       "</table>\n",
       "</div>"
      ],
      "text/plain": [
       "     Brand     Resolution  Size   Selling Price  Original Price  \\\n",
       "0  TOSHIBA   Ultra HD LED     55          37999           54990   \n",
       "1     TCL   QLED Ultra HD     55          52999          129990   \n",
       "2  realme          HD LED     32          13999           17999   \n",
       "3      Mi          HD LED     32          14999           19999   \n",
       "4  realme          HD LED     32          12999           21999   \n",
       "\n",
       "  Operating System  Rating  \n",
       "0            VIDAA     4.3  \n",
       "1          Android     4.4  \n",
       "2          Android     4.3  \n",
       "3          Android     4.4  \n",
       "4          Android     4.3  "
      ]
     },
     "execution_count": 4,
     "metadata": {},
     "output_type": "execute_result"
    }
   ],
   "source": [
    "df.head()"
   ]
  },
  {
   "cell_type": "code",
   "execution_count": 5,
   "id": "6466c2f0",
   "metadata": {
    "execution": {
     "iopub.execute_input": "2021-11-19T05:53:17.523318Z",
     "iopub.status.busy": "2021-11-19T05:53:17.522621Z",
     "iopub.status.idle": "2021-11-19T05:53:17.546741Z",
     "shell.execute_reply": "2021-11-19T05:53:17.547451Z",
     "shell.execute_reply.started": "2021-11-19T05:49:28.223548Z"
    },
    "papermill": {
     "duration": 0.048855,
     "end_time": "2021-11-19T05:53:17.547689",
     "exception": false,
     "start_time": "2021-11-19T05:53:17.498834",
     "status": "completed"
    },
    "tags": []
   },
   "outputs": [
    {
     "name": "stdout",
     "output_type": "stream",
     "text": [
      "<class 'pandas.core.frame.DataFrame'>\n",
      "RangeIndex: 912 entries, 0 to 911\n",
      "Data columns (total 7 columns):\n",
      " #   Column            Non-Null Count  Dtype  \n",
      "---  ------            --------------  -----  \n",
      " 0   Brand             912 non-null    object \n",
      " 1   Resolution        912 non-null    object \n",
      " 2   Size              912 non-null    int64  \n",
      " 3   Selling Price     912 non-null    int64  \n",
      " 4   Original Price    912 non-null    int64  \n",
      " 5   Operating System  901 non-null    object \n",
      " 6   Rating            692 non-null    float64\n",
      "dtypes: float64(1), int64(3), object(3)\n",
      "memory usage: 50.0+ KB\n"
     ]
    }
   ],
   "source": [
    "df.info()"
   ]
  },
  {
   "cell_type": "code",
   "execution_count": 6,
   "id": "be30db59",
   "metadata": {
    "execution": {
     "iopub.execute_input": "2021-11-19T05:53:17.596566Z",
     "iopub.status.busy": "2021-11-19T05:53:17.595827Z",
     "iopub.status.idle": "2021-11-19T05:53:17.600652Z",
     "shell.execute_reply": "2021-11-19T05:53:17.601134Z",
     "shell.execute_reply.started": "2021-11-19T05:49:28.237554Z"
    },
    "papermill": {
     "duration": 0.030136,
     "end_time": "2021-11-19T05:53:17.601313",
     "exception": false,
     "start_time": "2021-11-19T05:53:17.571177",
     "status": "completed"
    },
    "tags": []
   },
   "outputs": [
    {
     "data": {
      "text/plain": [
       "(912, 7)"
      ]
     },
     "execution_count": 6,
     "metadata": {},
     "output_type": "execute_result"
    }
   ],
   "source": [
    "df.shape"
   ]
  },
  {
   "cell_type": "code",
   "execution_count": 7,
   "id": "153b60a6",
   "metadata": {
    "execution": {
     "iopub.execute_input": "2021-11-19T05:53:17.648837Z",
     "iopub.status.busy": "2021-11-19T05:53:17.648078Z",
     "iopub.status.idle": "2021-11-19T05:53:17.672615Z",
     "shell.execute_reply": "2021-11-19T05:53:17.673199Z",
     "shell.execute_reply.started": "2021-11-19T05:49:28.250283Z"
    },
    "papermill": {
     "duration": 0.050078,
     "end_time": "2021-11-19T05:53:17.673391",
     "exception": false,
     "start_time": "2021-11-19T05:53:17.623313",
     "status": "completed"
    },
    "tags": []
   },
   "outputs": [
    {
     "data": {
      "text/html": [
       "<div>\n",
       "<style scoped>\n",
       "    .dataframe tbody tr th:only-of-type {\n",
       "        vertical-align: middle;\n",
       "    }\n",
       "\n",
       "    .dataframe tbody tr th {\n",
       "        vertical-align: top;\n",
       "    }\n",
       "\n",
       "    .dataframe thead th {\n",
       "        text-align: right;\n",
       "    }\n",
       "</style>\n",
       "<table border=\"1\" class=\"dataframe\">\n",
       "  <thead>\n",
       "    <tr style=\"text-align: right;\">\n",
       "      <th></th>\n",
       "      <th>Size</th>\n",
       "      <th>Selling Price</th>\n",
       "      <th>Original Price</th>\n",
       "      <th>Rating</th>\n",
       "    </tr>\n",
       "  </thead>\n",
       "  <tbody>\n",
       "    <tr>\n",
       "      <th>count</th>\n",
       "      <td>912.000000</td>\n",
       "      <td>912.000000</td>\n",
       "      <td>912.000000</td>\n",
       "      <td>692.000000</td>\n",
       "    </tr>\n",
       "    <tr>\n",
       "      <th>mean</th>\n",
       "      <td>45.942982</td>\n",
       "      <td>59358.606360</td>\n",
       "      <td>81975.213816</td>\n",
       "      <td>4.234104</td>\n",
       "    </tr>\n",
       "    <tr>\n",
       "      <th>std</th>\n",
       "      <td>12.316492</td>\n",
       "      <td>65866.677856</td>\n",
       "      <td>84823.568826</td>\n",
       "      <td>0.366694</td>\n",
       "    </tr>\n",
       "    <tr>\n",
       "      <th>min</th>\n",
       "      <td>17.000000</td>\n",
       "      <td>4849.000000</td>\n",
       "      <td>6999.000000</td>\n",
       "      <td>2.000000</td>\n",
       "    </tr>\n",
       "    <tr>\n",
       "      <th>25%</th>\n",
       "      <td>32.000000</td>\n",
       "      <td>19797.500000</td>\n",
       "      <td>28990.000000</td>\n",
       "      <td>4.100000</td>\n",
       "    </tr>\n",
       "    <tr>\n",
       "      <th>50%</th>\n",
       "      <td>43.000000</td>\n",
       "      <td>36990.000000</td>\n",
       "      <td>52900.000000</td>\n",
       "      <td>4.300000</td>\n",
       "    </tr>\n",
       "    <tr>\n",
       "      <th>75%</th>\n",
       "      <td>55.000000</td>\n",
       "      <td>67064.250000</td>\n",
       "      <td>99900.000000</td>\n",
       "      <td>4.400000</td>\n",
       "    </tr>\n",
       "    <tr>\n",
       "      <th>max</th>\n",
       "      <td>85.000000</td>\n",
       "      <td>499990.000000</td>\n",
       "      <td>549990.000000</td>\n",
       "      <td>5.000000</td>\n",
       "    </tr>\n",
       "  </tbody>\n",
       "</table>\n",
       "</div>"
      ],
      "text/plain": [
       "            Size   Selling Price  Original Price      Rating\n",
       "count  912.000000     912.000000      912.000000  692.000000\n",
       "mean    45.942982   59358.606360    81975.213816    4.234104\n",
       "std     12.316492   65866.677856    84823.568826    0.366694\n",
       "min     17.000000    4849.000000     6999.000000    2.000000\n",
       "25%     32.000000   19797.500000    28990.000000    4.100000\n",
       "50%     43.000000   36990.000000    52900.000000    4.300000\n",
       "75%     55.000000   67064.250000    99900.000000    4.400000\n",
       "max     85.000000  499990.000000   549990.000000    5.000000"
      ]
     },
     "execution_count": 7,
     "metadata": {},
     "output_type": "execute_result"
    }
   ],
   "source": [
    "df.describe()"
   ]
  },
  {
   "cell_type": "code",
   "execution_count": 8,
   "id": "f7fd3874",
   "metadata": {
    "execution": {
     "iopub.execute_input": "2021-11-19T05:53:17.724631Z",
     "iopub.status.busy": "2021-11-19T05:53:17.723885Z",
     "iopub.status.idle": "2021-11-19T05:53:17.732085Z",
     "shell.execute_reply": "2021-11-19T05:53:17.732564Z",
     "shell.execute_reply.started": "2021-11-19T05:49:28.279807Z"
    },
    "papermill": {
     "duration": 0.036911,
     "end_time": "2021-11-19T05:53:17.732756",
     "exception": false,
     "start_time": "2021-11-19T05:53:17.695845",
     "status": "completed"
    },
    "tags": []
   },
   "outputs": [
    {
     "data": {
      "text/plain": [
       "Brand                59\n",
       "Resolution            5\n",
       "Size                 27\n",
       "Selling Price       515\n",
       "Original Price      455\n",
       "Operating System      7\n",
       "Rating               25\n",
       "dtype: int64"
      ]
     },
     "execution_count": 8,
     "metadata": {},
     "output_type": "execute_result"
    }
   ],
   "source": [
    "df.nunique()"
   ]
  },
  {
   "cell_type": "markdown",
   "id": "ddeb02c1",
   "metadata": {
    "papermill": {
     "duration": 0.023132,
     "end_time": "2021-11-19T05:53:17.778826",
     "exception": false,
     "start_time": "2021-11-19T05:53:17.755694",
     "status": "completed"
    },
    "tags": []
   },
   "source": [
    "# Removing Null Values"
   ]
  },
  {
   "cell_type": "code",
   "execution_count": 9,
   "id": "4d222cc9",
   "metadata": {
    "execution": {
     "iopub.execute_input": "2021-11-19T05:53:17.829749Z",
     "iopub.status.busy": "2021-11-19T05:53:17.829027Z",
     "iopub.status.idle": "2021-11-19T05:53:17.833117Z",
     "shell.execute_reply": "2021-11-19T05:53:17.833685Z",
     "shell.execute_reply.started": "2021-11-19T05:49:28.291509Z"
    },
    "papermill": {
     "duration": 0.031035,
     "end_time": "2021-11-19T05:53:17.833860",
     "exception": false,
     "start_time": "2021-11-19T05:53:17.802825",
     "status": "completed"
    },
    "tags": []
   },
   "outputs": [],
   "source": [
    "df['Rating'] = df['Rating'].fillna(df['Rating'].mean())"
   ]
  },
  {
   "cell_type": "code",
   "execution_count": 10,
   "id": "44fc5e67",
   "metadata": {
    "execution": {
     "iopub.execute_input": "2021-11-19T05:53:17.886941Z",
     "iopub.status.busy": "2021-11-19T05:53:17.886004Z",
     "iopub.status.idle": "2021-11-19T05:53:18.266494Z",
     "shell.execute_reply": "2021-11-19T05:53:18.266978Z",
     "shell.execute_reply.started": "2021-11-19T05:49:28.301080Z"
    },
    "papermill": {
     "duration": 0.410427,
     "end_time": "2021-11-19T05:53:18.267161",
     "exception": false,
     "start_time": "2021-11-19T05:53:17.856734",
     "status": "completed"
    },
    "tags": []
   },
   "outputs": [
    {
     "data": {
      "text/plain": [
       "<AxesSubplot:>"
      ]
     },
     "execution_count": 10,
     "metadata": {},
     "output_type": "execute_result"
    },
    {
     "data": {
      "image/png": "[encoded data removed]",
      "text/plain": [
       "<Figure size 432x288 with 1 Axes>"
      ]
     },
     "metadata": {
      "needs_background": "light"
     },
     "output_type": "display_data"
    }
   ],
   "source": [
    "df['Operating System'].value_counts().plot(kind='bar')"
   ]
  },
  {
   "cell_type": "code",
   "execution_count": 11,
   "id": "a3ee9faa",
   "metadata": {
    "execution": {
     "iopub.execute_input": "2021-11-19T05:53:18.318865Z",
     "iopub.status.busy": "2021-11-19T05:53:18.318001Z",
     "iopub.status.idle": "2021-11-19T05:53:18.322722Z",
     "shell.execute_reply": "2021-11-19T05:53:18.323275Z",
     "shell.execute_reply.started": "2021-11-19T05:49:28.535748Z"
    },
    "papermill": {
     "duration": 0.032398,
     "end_time": "2021-11-19T05:53:18.323490",
     "exception": false,
     "start_time": "2021-11-19T05:53:18.291092",
     "status": "completed"
    },
    "tags": []
   },
   "outputs": [],
   "source": [
    "df['Operating System'] = df['Operating System'].fillna('Android')"
   ]
  },
  {
   "cell_type": "code",
   "execution_count": 12,
   "id": "2dbc0d95",
   "metadata": {
    "execution": {
     "iopub.execute_input": "2021-11-19T05:53:18.376757Z",
     "iopub.status.busy": "2021-11-19T05:53:18.375916Z",
     "iopub.status.idle": "2021-11-19T05:53:18.383889Z",
     "shell.execute_reply": "2021-11-19T05:53:18.384561Z",
     "shell.execute_reply.started": "2021-11-19T05:49:28.543114Z"
    },
    "papermill": {
     "duration": 0.036786,
     "end_time": "2021-11-19T05:53:18.384751",
     "exception": false,
     "start_time": "2021-11-19T05:53:18.347965",
     "status": "completed"
    },
    "tags": []
   },
   "outputs": [
    {
     "data": {
      "text/plain": [
       "Brand               0\n",
       "Resolution          0\n",
       "Size                0\n",
       "Selling Price       0\n",
       "Original Price      0\n",
       "Operating System    0\n",
       "Rating              0\n",
       "dtype: int64"
      ]
     },
     "execution_count": 12,
     "metadata": {},
     "output_type": "execute_result"
    }
   ],
   "source": [
    "df.isnull().sum()"
   ]
  },
  {
   "cell_type": "markdown",
   "id": "1da14bc3",
   "metadata": {
    "papermill": {
     "duration": 0.025616,
     "end_time": "2021-11-19T05:53:18.435360",
     "exception": false,
     "start_time": "2021-11-19T05:53:18.409744",
     "status": "completed"
    },
    "tags": []
   },
   "source": [
    "# Top 10 Brands"
   ]
  },
  {
   "cell_type": "code",
   "execution_count": 13,
   "id": "dbfd4168",
   "metadata": {
    "execution": {
     "iopub.execute_input": "2021-11-19T05:53:18.488205Z",
     "iopub.status.busy": "2021-11-19T05:53:18.487496Z",
     "iopub.status.idle": "2021-11-19T05:53:18.500058Z",
     "shell.execute_reply": "2021-11-19T05:53:18.500640Z",
     "shell.execute_reply.started": "2021-11-19T05:49:28.560848Z"
    },
    "papermill": {
     "duration": 0.040274,
     "end_time": "2021-11-19T05:53:18.500831",
     "exception": false,
     "start_time": "2021-11-19T05:53:18.460557",
     "status": "completed"
    },
    "tags": []
   },
   "outputs": [
    {
     "data": {
      "text/html": [
       "<div>\n",
       "<style scoped>\n",
       "    .dataframe tbody tr th:only-of-type {\n",
       "        vertical-align: middle;\n",
       "    }\n",
       "\n",
       "    .dataframe tbody tr th {\n",
       "        vertical-align: top;\n",
       "    }\n",
       "\n",
       "    .dataframe thead th {\n",
       "        text-align: right;\n",
       "    }\n",
       "</style>\n",
       "<table border=\"1\" class=\"dataframe\">\n",
       "  <thead>\n",
       "    <tr style=\"text-align: right;\">\n",
       "      <th></th>\n",
       "      <th>Brand</th>\n",
       "      <th>Count</th>\n",
       "    </tr>\n",
       "  </thead>\n",
       "  <tbody>\n",
       "    <tr>\n",
       "      <th>0</th>\n",
       "      <td>SAMSUNG</td>\n",
       "      <td>140</td>\n",
       "    </tr>\n",
       "    <tr>\n",
       "      <th>1</th>\n",
       "      <td>LG</td>\n",
       "      <td>122</td>\n",
       "    </tr>\n",
       "    <tr>\n",
       "      <th>2</th>\n",
       "      <td>SONY</td>\n",
       "      <td>62</td>\n",
       "    </tr>\n",
       "    <tr>\n",
       "      <th>3</th>\n",
       "      <td>TCL</td>\n",
       "      <td>44</td>\n",
       "    </tr>\n",
       "    <tr>\n",
       "      <th>4</th>\n",
       "      <td>Panasonic</td>\n",
       "      <td>30</td>\n",
       "    </tr>\n",
       "    <tr>\n",
       "      <th>5</th>\n",
       "      <td>Micromax</td>\n",
       "      <td>25</td>\n",
       "    </tr>\n",
       "    <tr>\n",
       "      <th>6</th>\n",
       "      <td>Vu</td>\n",
       "      <td>23</td>\n",
       "    </tr>\n",
       "    <tr>\n",
       "      <th>7</th>\n",
       "      <td>Lloyd</td>\n",
       "      <td>22</td>\n",
       "    </tr>\n",
       "    <tr>\n",
       "      <th>8</th>\n",
       "      <td>Mi</td>\n",
       "      <td>19</td>\n",
       "    </tr>\n",
       "    <tr>\n",
       "      <th>9</th>\n",
       "      <td>iFFALCON by TCL</td>\n",
       "      <td>19</td>\n",
       "    </tr>\n",
       "  </tbody>\n",
       "</table>\n",
       "</div>"
      ],
      "text/plain": [
       "             Brand  Count\n",
       "0          SAMSUNG    140\n",
       "1              LG     122\n",
       "2            SONY      62\n",
       "3             TCL      44\n",
       "4        Panasonic     30\n",
       "5         Micromax     25\n",
       "6               Vu     23\n",
       "7           Lloyd      22\n",
       "8              Mi      19\n",
       "9  iFFALCON by TCL     19"
      ]
     },
     "execution_count": 13,
     "metadata": {},
     "output_type": "execute_result"
    }
   ],
   "source": [
    "df1 = df[\"Brand\"].value_counts()[0:10].reset_index()\n",
    "df1.columns = [\"Brand\", \"Count\"]\n",
    "df1"
   ]
  },
  {
   "cell_type": "code",
   "execution_count": 14,
   "id": "c0e11e87",
   "metadata": {
    "execution": {
     "iopub.execute_input": "2021-11-19T05:53:18.570154Z",
     "iopub.status.busy": "2021-11-19T05:53:18.554138Z",
     "iopub.status.idle": "2021-11-19T05:53:18.964603Z",
     "shell.execute_reply": "2021-11-19T05:53:18.963954Z",
     "shell.execute_reply.started": "2021-11-19T05:49:28.577212Z"
    },
    "papermill": {
     "duration": 0.438785,
     "end_time": "2021-11-19T05:53:18.964763",
     "exception": false,
     "start_time": "2021-11-19T05:53:18.525978",
     "status": "completed"
    },
    "tags": []
   },
   "outputs": [
    {
     "data": {
      "image/png": "[encoded data removed]",
      "text/plain": [
       "<Figure size 1296x432 with 1 Axes>"
      ]
     },
     "metadata": {
      "needs_background": "light"
     },
     "output_type": "display_data"
    }
   ],
   "source": [
    "sns.catplot(x=\"Count\", y=\"Brand\", kind=\"bar\", data=df1, height=6, aspect=3)\n",
    "plt.grid(True)"
   ]
  },
  {
   "cell_type": "markdown",
   "id": "e30f0503",
   "metadata": {
    "papermill": {
     "duration": 0.025713,
     "end_time": "2021-11-19T05:53:19.016019",
     "exception": false,
     "start_time": "2021-11-19T05:53:18.990306",
     "status": "completed"
    },
    "tags": []
   },
   "source": [
    "# Brands and Resolution"
   ]
  },
  {
   "cell_type": "code",
   "execution_count": 15,
   "id": "9da799af",
   "metadata": {
    "execution": {
     "iopub.execute_input": "2021-11-19T05:53:19.072081Z",
     "iopub.status.busy": "2021-11-19T05:53:19.071032Z",
     "iopub.status.idle": "2021-11-19T05:53:19.545950Z",
     "shell.execute_reply": "2021-11-19T05:53:19.546462Z",
     "shell.execute_reply.started": "2021-11-19T05:49:29.056092Z"
    },
    "papermill": {
     "duration": 0.50409,
     "end_time": "2021-11-19T05:53:19.546663",
     "exception": false,
     "start_time": "2021-11-19T05:53:19.042573",
     "status": "completed"
    },
    "tags": []
   },
   "outputs": [
    {
     "data": {
      "image/png": "[encoded data removed]",
      "text/plain": [
       "<Figure size 1080x720 with 1 Axes>"
      ]
     },
     "metadata": {
      "needs_background": "light"
     },
     "output_type": "display_data"
    }
   ],
   "source": [
    "#Brands and Resolution\n",
    "plt.figure(figsize = (15,10))\n",
    "sns.set_style('white')\n",
    "sns.countplot(y=\"Brand\", hue=\"Resolution\", data=df,order=df[\"Brand\"].value_counts().iloc[:5].index,)\n",
    "plt.title('Brands and Resolution')\n",
    "plt.grid(True)"
   ]
  },
  {
   "cell_type": "markdown",
   "id": "060a69c5",
   "metadata": {
    "papermill": {
     "duration": 0.025907,
     "end_time": "2021-11-19T05:53:19.598741",
     "exception": false,
     "start_time": "2021-11-19T05:53:19.572834",
     "status": "completed"
    },
    "tags": []
   },
   "source": [
    "# Popularity By Resolution"
   ]
  },
  {
   "cell_type": "code",
   "execution_count": 16,
   "id": "bc402345",
   "metadata": {
    "execution": {
     "iopub.execute_input": "2021-11-19T05:53:19.656680Z",
     "iopub.status.busy": "2021-11-19T05:53:19.655864Z",
     "iopub.status.idle": "2021-11-19T05:53:19.849392Z",
     "shell.execute_reply": "2021-11-19T05:53:19.848625Z",
     "shell.execute_reply.started": "2021-11-19T05:49:29.483783Z"
    },
    "papermill": {
     "duration": 0.223775,
     "end_time": "2021-11-19T05:53:19.849597",
     "exception": false,
     "start_time": "2021-11-19T05:53:19.625822",
     "status": "completed"
    },
    "tags": []
   },
   "outputs": [
    {
     "data": {
      "image/png": "[encoded data removed]",
      "text/plain": [
       "<Figure size 432x288 with 1 Axes>"
      ]
     },
     "metadata": {},
     "output_type": "display_data"
    }
   ],
   "source": [
    "plt.pie(df['Resolution'].value_counts(),labels = df['Resolution'].unique(),autopct='%1.1f%%',radius=3,shadow=True,textprops={'color':'black','weight':'bold','fontsize':12.5})\n",
    "plt.show()"
   ]
  },
  {
   "cell_type": "markdown",
   "id": "c2d5ce34",
   "metadata": {
    "papermill": {
     "duration": 0.028018,
     "end_time": "2021-11-19T05:53:19.906083",
     "exception": false,
     "start_time": "2021-11-19T05:53:19.878065",
     "status": "completed"
    },
    "tags": []
   },
   "source": [
    "# Average selling price by Operating System"
   ]
  },
  {
   "cell_type": "code",
   "execution_count": 17,
   "id": "38e81e25",
   "metadata": {
    "execution": {
     "iopub.execute_input": "2021-11-19T05:53:19.966939Z",
     "iopub.status.busy": "2021-11-19T05:53:19.966274Z",
     "iopub.status.idle": "2021-11-19T05:53:20.440316Z",
     "shell.execute_reply": "2021-11-19T05:53:20.439775Z",
     "shell.execute_reply.started": "2021-11-19T05:49:29.645564Z"
    },
    "papermill": {
     "duration": 0.505341,
     "end_time": "2021-11-19T05:53:20.440504",
     "exception": false,
     "start_time": "2021-11-19T05:53:19.935163",
     "status": "completed"
    },
    "tags": []
   },
   "outputs": [
    {
     "data": {
      "image/png": "[encoded data removed]",
      "text/plain": [
       "<Figure size 576x360 with 1 Axes>"
      ]
     },
     "metadata": {},
     "output_type": "display_data"
    }
   ],
   "source": [
    "plt.figure(figsize=(8,5))\n",
    "sns.barplot(x=df['Operating System'], y=df['Selling Price'])\n",
    "plt.show()"
   ]
  },
  {
   "cell_type": "markdown",
   "id": "4d9c7827",
   "metadata": {
    "papermill": {
     "duration": 0.02903,
     "end_time": "2021-11-19T05:53:20.499483",
     "exception": false,
     "start_time": "2021-11-19T05:53:20.470453",
     "status": "completed"
    },
    "tags": []
   },
   "source": [
    "# Brand and Discount Percentage on Original Price"
   ]
  },
  {
   "cell_type": "code",
   "execution_count": 18,
   "id": "84a04ed2",
   "metadata": {
    "execution": {
     "iopub.execute_input": "2021-11-19T05:53:20.565572Z",
     "iopub.status.busy": "2021-11-19T05:53:20.564868Z",
     "iopub.status.idle": "2021-11-19T05:53:20.566641Z",
     "shell.execute_reply": "2021-11-19T05:53:20.567134Z",
     "shell.execute_reply.started": "2021-11-19T05:49:30.036179Z"
    },
    "papermill": {
     "duration": 0.03803,
     "end_time": "2021-11-19T05:53:20.567302",
     "exception": false,
     "start_time": "2021-11-19T05:53:20.529272",
     "status": "completed"
    },
    "tags": []
   },
   "outputs": [],
   "source": [
    "df['Discount_percentage']=((df['Original Price']-df['Selling Price'])/df['Original Price'])*100"
   ]
  },
  {
   "cell_type": "code",
   "execution_count": 19,
   "id": "4c03b944",
   "metadata": {
    "execution": {
     "iopub.execute_input": "2021-11-19T05:53:20.628476Z",
     "iopub.status.busy": "2021-11-19T05:53:20.627765Z",
     "iopub.status.idle": "2021-11-19T05:53:20.641009Z",
     "shell.execute_reply": "2021-11-19T05:53:20.641555Z",
     "shell.execute_reply.started": "2021-11-19T05:49:30.045423Z"
    },
    "papermill": {
     "duration": 0.045601,
     "end_time": "2021-11-19T05:53:20.641751",
     "exception": false,
     "start_time": "2021-11-19T05:53:20.596150",
     "status": "completed"
    },
    "tags": []
   },
   "outputs": [
    {
     "data": {
      "text/html": [
       "<div>\n",
       "<style scoped>\n",
       "    .dataframe tbody tr th:only-of-type {\n",
       "        vertical-align: middle;\n",
       "    }\n",
       "\n",
       "    .dataframe tbody tr th {\n",
       "        vertical-align: top;\n",
       "    }\n",
       "\n",
       "    .dataframe thead th {\n",
       "        text-align: right;\n",
       "    }\n",
       "</style>\n",
       "<table border=\"1\" class=\"dataframe\">\n",
       "  <thead>\n",
       "    <tr style=\"text-align: right;\">\n",
       "      <th></th>\n",
       "      <th>Brand</th>\n",
       "      <th>Discount_percentage</th>\n",
       "    </tr>\n",
       "  </thead>\n",
       "  <tbody>\n",
       "    <tr>\n",
       "      <th>0</th>\n",
       "      <td>TOSHIBA</td>\n",
       "      <td>30.898345</td>\n",
       "    </tr>\n",
       "    <tr>\n",
       "      <th>1</th>\n",
       "      <td>TCL</td>\n",
       "      <td>59.228402</td>\n",
       "    </tr>\n",
       "    <tr>\n",
       "      <th>2</th>\n",
       "      <td>realme</td>\n",
       "      <td>22.223457</td>\n",
       "    </tr>\n",
       "    <tr>\n",
       "      <th>3</th>\n",
       "      <td>Mi</td>\n",
       "      <td>25.001250</td>\n",
       "    </tr>\n",
       "    <tr>\n",
       "      <th>4</th>\n",
       "      <td>realme</td>\n",
       "      <td>40.910950</td>\n",
       "    </tr>\n",
       "    <tr>\n",
       "      <th>...</th>\n",
       "      <td>...</td>\n",
       "      <td>...</td>\n",
       "    </tr>\n",
       "    <tr>\n",
       "      <th>907</th>\n",
       "      <td>SONY</td>\n",
       "      <td>22.281520</td>\n",
       "    </tr>\n",
       "    <tr>\n",
       "      <th>908</th>\n",
       "      <td>SONY</td>\n",
       "      <td>20.040462</td>\n",
       "    </tr>\n",
       "    <tr>\n",
       "      <th>909</th>\n",
       "      <td>SONY</td>\n",
       "      <td>18.919942</td>\n",
       "    </tr>\n",
       "    <tr>\n",
       "      <th>910</th>\n",
       "      <td>SONY</td>\n",
       "      <td>0.000000</td>\n",
       "    </tr>\n",
       "    <tr>\n",
       "      <th>911</th>\n",
       "      <td>SONY</td>\n",
       "      <td>0.000000</td>\n",
       "    </tr>\n",
       "  </tbody>\n",
       "</table>\n",
       "<p>912 rows × 2 columns</p>\n",
       "</div>"
      ],
      "text/plain": [
       "       Brand  Discount_percentage\n",
       "0    TOSHIBA            30.898345\n",
       "1       TCL             59.228402\n",
       "2    realme             22.223457\n",
       "3        Mi             25.001250\n",
       "4    realme             40.910950\n",
       "..       ...                  ...\n",
       "907    SONY             22.281520\n",
       "908    SONY             20.040462\n",
       "909    SONY             18.919942\n",
       "910    SONY              0.000000\n",
       "911    SONY              0.000000\n",
       "\n",
       "[912 rows x 2 columns]"
      ]
     },
     "execution_count": 19,
     "metadata": {},
     "output_type": "execute_result"
    }
   ],
   "source": [
    "Discount = ['Brand','Discount_percentage']\n",
    "df[Discount]"
   ]
  },
  {
   "cell_type": "markdown",
   "id": "2a8a2ad0",
   "metadata": {
    "papermill": {
     "duration": 0.030853,
     "end_time": "2021-11-19T05:53:20.702294",
     "exception": false,
     "start_time": "2021-11-19T05:53:20.671441",
     "status": "completed"
    },
    "tags": []
   },
   "source": [
    "# Thank you !!\n",
    " Please upvote if you liked my work :):)"
   ]
  }
 ],
 "metadata": {
  "kernelspec": {
   "display_name": "Python 3",
   "language": "python",
   "name": "python3"
  },
  "language_info": {
   "codemirror_mode": {
    "name": "ipython",
    "version": 3
   },
   "file_extension": ".py",
   "mimetype": "text/x-python",
   "name": "python",
   "nbconvert_exporter": "python",
   "pygments_lexer": "ipython3",
   "version": "3.7.10"
  },
  "papermill": {
   "default_parameters": {},
   "duration": 15.16522,
   "end_time": "2021-11-19T05:53:21.442884",
   "environment_variables": {},
   "exception": null,
   "input_path": "__notebook__.ipynb",
   "output_path": "__notebook__.ipynb",
   "parameters": {},
   "start_time": "2021-11-19T05:53:06.277664",
   "version": "2.3.3"
  }
 },
 "nbformat": 4,
 "nbformat_minor": 5
}
